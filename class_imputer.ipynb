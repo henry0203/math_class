{
 "cells": [
  {
   "cell_type": "code",
   "execution_count": 3,
   "metadata": {},
   "outputs": [
    {
     "name": "stdout",
     "output_type": "stream",
     "text": [
      "Voici votre liste initiale : [None, 2, 3, 12, 5, 6, None]\n",
      "Voulez-vous remplacer les valeurs None par la 'mediane' ou la 'moyenne' ? moyenne\n",
      "Voici la liste avec les valeurs None remplacées par la moyenne [5.6, 2, 3, 12, 5, 6, 5.6] \n",
      "\n",
      "Voici votre liste initiale : [5.6, 2, 3, 12, 5, 6, 5.6]\n",
      "Voulez-vous remplacer les valeurs None par la 'mediane' ou la 'moyenne' ? mediane\n",
      "Voici la liste avec les valeurs None remplacées par la mediane [5.6, 2, 3, 12, 5, 6, 5.6] \n",
      "\n"
     ]
    }
   ],
   "source": [
    "#Ex 4 : Class Imputer \n",
    "class Imputer:\n",
    "    def __init__(self, liste):\n",
    "        self.list = liste\n",
    "    \n",
    "    # Method to ask to user which operation to do in the list (replace None values by average or median)\n",
    "    def list_operation(self):\n",
    "        print(\"Voici votre liste initiale : {}\".format(liste))\n",
    "        method = input(\"Voulez-vous remplacer les valeurs None par la 'mediane' ou la 'moyenne' ? \")\n",
    "        if method == \"mediane\":\n",
    "            self.median()\n",
    "        elif method == \"moyenne\":\n",
    "            self.average()\n",
    "        else: \n",
    "            print(\"Demande non trouvée\")\n",
    "    \n",
    "    # Method to replace None values in the list by average\n",
    "    def average(self):\n",
    "        result = 0\n",
    "        i = 0\n",
    "        liste = self.list\n",
    "        list_none = []\n",
    "        \n",
    "        # Calculate average of not None list elements and store None element indices in another list\n",
    "        for element in liste:\n",
    "            if element is not None:\n",
    "                result += element\n",
    "            else: \n",
    "                list_none.append(i)\n",
    "            i +=1\n",
    "        average = round(result/(len(liste)-len(list_none)),2)\n",
    "        \n",
    "        # Go through None list indices and replace element in the initial list by average\n",
    "        for indice in list_none:\n",
    "            liste[indice] = average\n",
    "        print(\"Voici la liste avec les valeurs None remplacées par la moyenne {} \\n\".format(liste))\n",
    "    \n",
    "    # Method to replace None values in the list by median\n",
    "    def median(self):\n",
    "        i = 0\n",
    "        liste = self.list.copy()\n",
    "        list_new = []\n",
    "        list_none = []\n",
    "        \n",
    "        # Create new list with not None list elements and store None element indices in another list\n",
    "        for element in liste: \n",
    "            if element is not None:\n",
    "                list_new.append(element)\n",
    "            else:\n",
    "                list_none.append(i)\n",
    "            i += 1\n",
    "        # Calculate median of new list elements\n",
    "        list_new.sort()\n",
    "        if len(list_new) % 2 == 0:\n",
    "            mediane = (list_new[len(list_new)/2-1]+list_new[len(list_new)/2])/2\n",
    "        else: \n",
    "            mediane = list_new[int((len(list_new)-1)/2)]\n",
    "        \n",
    "        # Go through None list indices and replace element in the initial list by median\n",
    "        for indice in list_none:\n",
    "            liste[indice] = mediane\n",
    "        print(\"Voici la liste avec les valeurs None remplacées par la mediane {} \\n\".format(liste))            \n",
    "\n",
    "# Create imputer object with list in attribute\n",
    "liste = [None, 2, 3, 12, 5, 6, None]\n",
    "imputer = Imputer(liste)\n",
    "# Apply method 'list_operation' in the instance\n",
    "imputer.list_operation() \n",
    "imputer.list_operation()"
   ]
  },
  {
   "cell_type": "code",
   "execution_count": null,
   "metadata": {},
   "outputs": [],
   "source": []
  }
 ],
 "metadata": {
  "kernelspec": {
   "display_name": "Python 3",
   "language": "python",
   "name": "python3"
  },
  "language_info": {
   "codemirror_mode": {
    "name": "ipython",
    "version": 3
   },
   "file_extension": ".py",
   "mimetype": "text/x-python",
   "name": "python",
   "nbconvert_exporter": "python",
   "pygments_lexer": "ipython3",
   "version": "3.7.6"
  }
 },
 "nbformat": 4,
 "nbformat_minor": 4
}
